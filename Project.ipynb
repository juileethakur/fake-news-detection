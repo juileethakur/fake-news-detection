{
 "cells": [
  {
   "cell_type": "markdown",
   "id": "33585d3f",
   "metadata": {},
   "source": [
    "# Fake News Detection "
   ]
  },
  {
   "cell_type": "code",
   "execution_count": 392,
   "id": "e7574efb",
   "metadata": {},
   "outputs": [],
   "source": [
    "import urllib.request,sys,time\n",
    "from selenium import webdriver\n",
    "from bs4 import BeautifulSoup\n",
    "import requests\n",
    "import pandas as pd\n",
    "from nltk.corpus import stopwords\n",
    "from nltk.stem.porter import PorterStemmer\n",
    "import re \n",
    "import matplotlib.pyplot as plt\n",
    "import seaborn as sns\n",
    "import numpy as np\n",
    "%matplotlib inline"
   ]
  },
  {
   "cell_type": "markdown",
   "id": "01a94757",
   "metadata": {},
   "source": [
    "### The scrapper function \n",
    "\n",
    "The scrapper function will scrape \n",
    "> • Statement <br>\n",
    "> • Link <br>\n",
    "> • Date <br>\n",
    "> • Source <br>\n",
    "> • Label of news"
   ]
  },
  {
   "cell_type": "code",
   "execution_count": 376,
   "id": "5ef0219c",
   "metadata": {},
   "outputs": [],
   "source": [
    "def scrapper(n_pages): \n",
    "    \n",
    "    Statement,Link,Date,Source,Label = [],[],[],[],[]\n",
    "    results = []\n",
    "    #executable_path = 'H:\\Driver\\chromedriver'\n",
    "    #driver = webdriver.Chrome()\n",
    "    \n",
    "\n",
    "    for i in range(n_pages):\n",
    "        url = 'https://www.politifact.com/factchecks/list/?page='+str(i)\n",
    "        try:\n",
    "            page=requests.get(url)                           \n",
    "        except Exception as e:                                   \n",
    "            error_type, error_obj, error_info = sys.exc_info()     \n",
    "            print ('ERROR FOR LINK:',url)                          \n",
    "            print (error_type, 'Line:', error_info.tb_lineno)     \n",
    "            continue\n",
    "        \n",
    "        time.sleep(2)   \n",
    "        soup=BeautifulSoup(page.text,'html.parser')\n",
    "        frame=[]\n",
    "        links=soup.find_all('li',attrs={'class':'o-listicle__item'})\n",
    "        for j in links:\n",
    "            Statement.append(j.find(\"div\",attrs={'class':'m-statement__quote'}).text.strip())\n",
    "            \n",
    "            Link.append(j.find(\"div\",attrs={'class':'m-statement__quote'}).find('a')['href'].strip())\n",
    "            Date.append(j.find('div',attrs={'class':'m-statement__body'}).find('footer').text[-14:-1].strip())\n",
    "            Source.append(j.find('div', attrs={'class':'m-statement__meta'}).find('a').text.strip())\n",
    "            Label.append(j.find('div', attrs ={'class':'m-statement__content'}).find('img',attrs={'class':'c-image__original'}).get('alt').strip())\n",
    "\n",
    "    results = pd.DataFrame(list(zip(Statement,Link,Date,Source,Label)),\n",
    "               columns =['Statement', 'Link','Date','Source','Label'])\n",
    "    return results\n",
    "\n"
   ]
  },
  {
   "cell_type": "markdown",
   "id": "cdb619eb",
   "metadata": {},
   "source": [
    "Giving the number of pages to be scrapped"
   ]
  },
  {
   "cell_type": "code",
   "execution_count": 377,
   "id": "3e54f8ae",
   "metadata": {},
   "outputs": [],
   "source": [
    "data = scrapper(50)"
   ]
  },
  {
   "cell_type": "markdown",
   "id": "28383f19",
   "metadata": {},
   "source": [
    "Filling empty cells i.e. NA values  with None"
   ]
  },
  {
   "cell_type": "code",
   "execution_count": 379,
   "id": "d92bd5c4",
   "metadata": {},
   "outputs": [],
   "source": [
    "data = data.fillna('None')"
   ]
  },
  {
   "cell_type": "markdown",
   "id": "546b770f",
   "metadata": {},
   "source": [
    "Scrapping news articles for articles column in above dataframe"
   ]
  },
  {
   "cell_type": "code",
   "execution_count": 380,
   "id": "895f5365",
   "metadata": {},
   "outputs": [],
   "source": [
    "article = []\n",
    "for i in data['Link']: \n",
    "    if i == 'None' :\n",
    "        article.append('None')\n",
    "    else:\n",
    "        url = 'https://www.politifact.com' + i\n",
    "        page=requests.get(url)                           \n",
    "        soup = BeautifulSoup(page.content,'html.parser')\n",
    "        n = soup.find(attrs={\"class\": \"short-on-time\", \"p\":\"\"})\n",
    "        #print(n)\n",
    "        if n != None:\n",
    "            n = n.get_text()\n",
    "            m = \" \".join(n.split())\n",
    "            x = \"\".join(m.split(\"•\"))\n",
    "            y = x.strip()\n",
    "            article.append(y)\n",
    "        else :\n",
    "            article.append('None')"
   ]
  },
  {
   "cell_type": "markdown",
   "id": "33edb08f",
   "metadata": {},
   "source": [
    "Adding article column to the data frame with all the scrapped articles"
   ]
  },
  {
   "cell_type": "code",
   "execution_count": 396,
   "id": "b899ded3",
   "metadata": {},
   "outputs": [
    {
     "name": "stdout",
     "output_type": "stream",
     "text": [
      "1470\n"
     ]
    }
   ],
   "source": [
    "print(len(article))\n",
    "data['Article'] = article"
   ]
  },
  {
   "cell_type": "code",
   "execution_count": 397,
   "id": "86a55fe7",
   "metadata": {},
   "outputs": [
    {
     "data": {
      "text/html": [
       "<div>\n",
       "<style scoped>\n",
       "    .dataframe tbody tr th:only-of-type {\n",
       "        vertical-align: middle;\n",
       "    }\n",
       "\n",
       "    .dataframe tbody tr th {\n",
       "        vertical-align: top;\n",
       "    }\n",
       "\n",
       "    .dataframe thead th {\n",
       "        text-align: right;\n",
       "    }\n",
       "</style>\n",
       "<table border=\"1\" class=\"dataframe\">\n",
       "  <thead>\n",
       "    <tr style=\"text-align: right;\">\n",
       "      <th></th>\n",
       "      <th>Statement</th>\n",
       "      <th>Link</th>\n",
       "      <th>Date</th>\n",
       "      <th>Source</th>\n",
       "      <th>Label</th>\n",
       "      <th>Article</th>\n",
       "    </tr>\n",
       "  </thead>\n",
       "  <tbody>\n",
       "    <tr>\n",
       "      <th>0</th>\n",
       "      <td>“Kathy Barnette wants to build a statue of Bar...</td>\n",
       "      <td>/factchecks/2022/may/13/usa-freedom-fund/penns...</td>\n",
       "      <td>May 13, 2022</td>\n",
       "      <td>USA Freedom Fund</td>\n",
       "      <td>mostly-true</td>\n",
       "      <td>Pennsylvania U.S. Senate candidate Kathy Barne...</td>\n",
       "    </tr>\n",
       "    <tr>\n",
       "      <th>1</th>\n",
       "      <td>Says the Biden administration is choosing to s...</td>\n",
       "      <td>/factchecks/2022/may/13/greg-abbott/providing-...</td>\n",
       "      <td>May 13, 2022</td>\n",
       "      <td>Greg Abbott</td>\n",
       "      <td>barely-true</td>\n",
       "      <td>A 1997 legal settlement requires border offici...</td>\n",
       "    </tr>\n",
       "    <tr>\n",
       "      <th>2</th>\n",
       "      <td>Joe Biden “inherited inflation of 1.7%. Now we...</td>\n",
       "      <td>/factchecks/2022/may/13/kathy-barnette/kathy-b...</td>\n",
       "      <td>May 13, 2022</td>\n",
       "      <td>Kathy Barnette</td>\n",
       "      <td>mostly-true</td>\n",
       "      <td>Barnette is right on the numbers. Inflation ha...</td>\n",
       "    </tr>\n",
       "    <tr>\n",
       "      <th>3</th>\n",
       "      <td>Homemade baby formula recipes offer a ‘viable ...</td>\n",
       "      <td>/factchecks/2022/may/13/facebook-posts/no-maki...</td>\n",
       "      <td>May 13, 2022</td>\n",
       "      <td>Facebook posts</td>\n",
       "      <td>false</td>\n",
       "      <td>The U.S. Food and Drug Administration advises ...</td>\n",
       "    </tr>\n",
       "    <tr>\n",
       "      <th>4</th>\n",
       "      <td>“We’re one of the seven nations in the world t...</td>\n",
       "      <td>/factchecks/2022/may/13/lindsey-graham/fact-ch...</td>\n",
       "      <td>May 13, 2022</td>\n",
       "      <td>Lindsey Graham</td>\n",
       "      <td>half-true</td>\n",
       "      <td>Worldwide, a dozen nations, including the U.S....</td>\n",
       "    </tr>\n",
       "  </tbody>\n",
       "</table>\n",
       "</div>"
      ],
      "text/plain": [
       "                                           Statement  \\\n",
       "0  “Kathy Barnette wants to build a statue of Bar...   \n",
       "1  Says the Biden administration is choosing to s...   \n",
       "2  Joe Biden “inherited inflation of 1.7%. Now we...   \n",
       "3  Homemade baby formula recipes offer a ‘viable ...   \n",
       "4  “We’re one of the seven nations in the world t...   \n",
       "\n",
       "                                                Link          Date  \\\n",
       "0  /factchecks/2022/may/13/usa-freedom-fund/penns...  May 13, 2022   \n",
       "1  /factchecks/2022/may/13/greg-abbott/providing-...  May 13, 2022   \n",
       "2  /factchecks/2022/may/13/kathy-barnette/kathy-b...  May 13, 2022   \n",
       "3  /factchecks/2022/may/13/facebook-posts/no-maki...  May 13, 2022   \n",
       "4  /factchecks/2022/may/13/lindsey-graham/fact-ch...  May 13, 2022   \n",
       "\n",
       "             Source        Label  \\\n",
       "0  USA Freedom Fund  mostly-true   \n",
       "1       Greg Abbott  barely-true   \n",
       "2    Kathy Barnette  mostly-true   \n",
       "3    Facebook posts        false   \n",
       "4    Lindsey Graham    half-true   \n",
       "\n",
       "                                             Article  \n",
       "0  Pennsylvania U.S. Senate candidate Kathy Barne...  \n",
       "1  A 1997 legal settlement requires border offici...  \n",
       "2  Barnette is right on the numbers. Inflation ha...  \n",
       "3  The U.S. Food and Drug Administration advises ...  \n",
       "4  Worldwide, a dozen nations, including the U.S....  "
      ]
     },
     "execution_count": 397,
     "metadata": {},
     "output_type": "execute_result"
    }
   ],
   "source": [
    "data.head()"
   ]
  },
  {
   "cell_type": "code",
   "execution_count": 398,
   "id": "350f561e",
   "metadata": {},
   "outputs": [
    {
     "name": "stdout",
     "output_type": "stream",
     "text": [
      "(1470, 6)\n"
     ]
    }
   ],
   "source": [
    "print(data.shape)"
   ]
  },
  {
   "cell_type": "markdown",
   "id": "ea55e153",
   "metadata": {},
   "source": [
    "Saving dataframe to csv file"
   ]
  },
  {
   "cell_type": "code",
   "execution_count": 399,
   "id": "ce0d9166",
   "metadata": {},
   "outputs": [],
   "source": [
    "data.to_csv('data.csv')"
   ]
  },
  {
   "cell_type": "markdown",
   "id": "7dc05fbc",
   "metadata": {},
   "source": [
    "Concatenating articles , source and statement of news and modifying labels to get ignore the least appearing news types and for better performance of model"
   ]
  },
  {
   "cell_type": "code",
   "execution_count": 417,
   "id": "c19b2844",
   "metadata": {},
   "outputs": [
    {
     "name": "stdout",
     "output_type": "stream",
     "text": [
      "false          800\n",
      "pants-fire     228\n",
      "barely-true    205\n",
      "half-true      123\n",
      "mostly-true     68\n",
      "true            39\n",
      "full-flop        4\n",
      "half-flip        3\n",
      "Name: Label, dtype: int64\n"
     ]
    },
    {
     "data": {
      "text/plain": [
       "<AxesSubplot:>"
      ]
     },
     "execution_count": 417,
     "metadata": {},
     "output_type": "execute_result"
    },
    {
     "data": {
      "image/png": "[encoded data removed]",
      "text/plain": [
       "<Figure size 432x288 with 1 Axes>"
      ]
     },
     "metadata": {
      "needs_background": "light"
     },
     "output_type": "display_data"
    }
   ],
   "source": [
    "artricles_modified = data['Statement']+' '+ data['Article']+ data['Source']\n",
    "labels = data['Label']\n",
    "values = labels.value_counts()\n",
    "labels_modified = labels.replace({'pants-fire':'false','barely-true':'true','half-true':'true','mostly-true':'true','full-flop':'false','half-flip':'false','no-flip':'true'})\n",
    "#{'pants-fire':'false','barely-true':'true','half-true':'true','mostly-true':'true','full-flop':'false','half-flip':'false','no-flip':'true'}\n",
    "print(values)\n",
    "labels.value_counts().plot(kind='barh')\n"
   ]
  },
  {
   "cell_type": "markdown",
   "id": "983da263",
   "metadata": {},
   "source": [
    "### New value counts of labels"
   ]
  },
  {
   "cell_type": "code",
   "execution_count": 418,
   "id": "e76f8033",
   "metadata": {},
   "outputs": [
    {
     "name": "stdout",
     "output_type": "stream",
     "text": [
      "false    1035\n",
      "true      435\n",
      "Name: Label, dtype: int64\n"
     ]
    },
    {
     "data": {
      "text/plain": [
       "<AxesSubplot:>"
      ]
     },
     "execution_count": 418,
     "metadata": {},
     "output_type": "execute_result"
    },
    {
     "data": {
      "image/png": "[encoded data removed]",
      "text/plain": [
       "<Figure size 432x288 with 1 Axes>"
      ]
     },
     "metadata": {
      "needs_background": "light"
     },
     "output_type": "display_data"
    }
   ],
   "source": [
    "print(labels_modified.value_counts())\n",
    "\n",
    "labels_modified.value_counts().plot(kind='bar')"
   ]
  },
  {
   "cell_type": "markdown",
   "id": "7c850ab2",
   "metadata": {},
   "source": [
    "### Value counts of top 10 labels"
   ]
  },
  {
   "cell_type": "code",
   "execution_count": 420,
   "id": "c36506c7",
   "metadata": {},
   "outputs": [
    {
     "name": "stdout",
     "output_type": "stream",
     "text": [
      "Facebook posts     479\n",
      "Viral image        201\n",
      "Instagram posts    110\n",
      "Bloggers            67\n",
      "Tweets              47\n",
      "Joe Biden           35\n",
      "TikTok posts        26\n",
      "Donald Trump        15\n",
      "Ron DeSantis        10\n",
      "Glenn Youngkin       9\n",
      "Name: Source, dtype: int64\n"
     ]
    },
    {
     "data": {
      "text/plain": [
       "<AxesSubplot:>"
      ]
     },
     "execution_count": 420,
     "metadata": {},
     "output_type": "execute_result"
    },
    {
     "data": {
      "image/png": "[encoded data removed]",
      "text/plain": [
       "<Figure size 432x288 with 1 Axes>"
      ]
     },
     "metadata": {
      "needs_background": "light"
     },
     "output_type": "display_data"
    }
   ],
   "source": [
    "sources = data['Source']\n",
    "print(sources.value_counts()[0:10])\n",
    "\n",
    "sources.value_counts()[0:10].plot(kind='barh')"
   ]
  },
  {
   "cell_type": "markdown",
   "id": "077c2e9d",
   "metadata": {},
   "source": [
    "Stemming modified articles using porter stemmer"
   ]
  },
  {
   "cell_type": "code",
   "execution_count": 421,
   "id": "4dd768f9",
   "metadata": {},
   "outputs": [],
   "source": [
    "port_stem = PorterStemmer()\n",
    "def stemming(content):\n",
    "    stemmed_content = re.sub('[^a-zA-Z]',' ',content)\n",
    "    stemmed_content = stemmed_content.lower()\n",
    "    stemmed_content = stemmed_content.split()\n",
    "    stemmed_content = [port_stem.stem(word) for word in stemmed_content if not word in stopwords.words('english')]\n",
    "    stemmed_content = ' '.join(stemmed_content)\n",
    "    return stemmed_content"
   ]
  },
  {
   "cell_type": "code",
   "execution_count": 422,
   "id": "99eb4873",
   "metadata": {},
   "outputs": [
    {
     "data": {
      "text/plain": [
       "0    “Kathy Barnette wants to build a statue of Bar...\n",
       "1    Says the Biden administration is choosing to s...\n",
       "2    Joe Biden “inherited inflation of 1.7%. Now we...\n",
       "3    Homemade baby formula recipes offer a ‘viable ...\n",
       "4    “We’re one of the seven nations in the world t...\n",
       "dtype: object"
      ]
     },
     "execution_count": 422,
     "metadata": {},
     "output_type": "execute_result"
    }
   ],
   "source": [
    "artricles_modified[0:5]"
   ]
  },
  {
   "cell_type": "code",
   "execution_count": 423,
   "id": "856ce64d",
   "metadata": {},
   "outputs": [],
   "source": [
    "artricles_modified = artricles_modified.apply(stemming)"
   ]
  },
  {
   "cell_type": "code",
   "execution_count": 424,
   "id": "f849e7a7",
   "metadata": {},
   "outputs": [
    {
     "data": {
      "text/plain": [
       "0    kathi barnett want build statu barack obama ri...\n",
       "1    say biden administr choos send babi formula bo...\n",
       "2    joe biden inherit inflat well grow barnett rig...\n",
       "3    homemad babi formula recip offer viabl option ...\n",
       "4    one seven nation world allow abort demand week...\n",
       "dtype: object"
      ]
     },
     "execution_count": 424,
     "metadata": {},
     "output_type": "execute_result"
    }
   ],
   "source": [
    "artricles_modified[0:5]"
   ]
  },
  {
   "cell_type": "markdown",
   "id": "ad7c2a56",
   "metadata": {},
   "source": [
    "Using grid search CV for finding best parameters for SVM model"
   ]
  },
  {
   "cell_type": "code",
   "execution_count": 425,
   "id": "3cf428d4",
   "metadata": {},
   "outputs": [],
   "source": [
    "def search_para(docs, y):\n",
    "    from sklearn.pipeline import Pipeline\n",
    "    from sklearn.model_selection import GridSearchCV\n",
    "    from sklearn.feature_extraction.text import TfidfVectorizer\n",
    "    from sklearn import svm\n",
    "    \n",
    "    text_clf = Pipeline([('tfidf', TfidfVectorizer()),('clf', svm.LinearSVC())])\n",
    "    parameters = {'tfidf__use_idf':[True,False],'tfidf__binary':[True,False],'tfidf__min_df':[1,3,5,7],\n",
    "              'tfidf__stop_words':[None,\"english\"],\n",
    "              'clf__C': [0.5,1.0,2.0],}\n",
    "    metric =  \"f1_macro\"\n",
    "    gs_clf = GridSearchCV(text_clf, param_grid=parameters,scoring=metric, cv=5)\n",
    "    gs_clf = gs_clf.fit(docs, y)\n",
    "    for param_name in gs_clf.best_params_:\n",
    "        print(\"{0}:\\t{1}\".format(param_name,gs_clf.best_params_[param_name]))\n",
    "    print(\"best f1 score: {:.2%}\".format(gs_clf.best_score_))\n"
   ]
  },
  {
   "cell_type": "code",
   "execution_count": 426,
   "id": "1c733af8",
   "metadata": {},
   "outputs": [
    {
     "name": "stdout",
     "output_type": "stream",
     "text": [
      "clf__C:\t0.5\n",
      "tfidf__binary:\tFalse\n",
      "tfidf__min_df:\t7\n",
      "tfidf__stop_words:\tenglish\n",
      "tfidf__use_idf:\tFalse\n",
      "best f1 score: 70.91%\n"
     ]
    }
   ],
   "source": [
    "search_para(artricles_modified, labels_modified)"
   ]
  },
  {
   "cell_type": "code",
   "execution_count": null,
   "id": "ae26fc22",
   "metadata": {},
   "outputs": [],
   "source": []
  },
  {
   "cell_type": "markdown",
   "id": "5b6db75d",
   "metadata": {},
   "source": [
    "### Training the model with supervised learning algorithm linear SVM and doing performance evaluation "
   ]
  },
  {
   "cell_type": "code",
   "execution_count": 427,
   "id": "d9c6661c",
   "metadata": {},
   "outputs": [],
   "source": [
    "def svm_model(artricles_modified, labels_modified,\\\n",
    "             dtm_options={'stop_words':None, 'min_df':1, 'use_idf':True, 'binary':'False'},\n",
    "             svm_options = {'C':1}):\n",
    "    \n",
    "    import numpy as np\n",
    "    from sklearn.feature_extraction.text import TfidfVectorizer\n",
    "    from sklearn import svm\n",
    "    from sklearn.metrics import classification_report\n",
    "    from sklearn.metrics import roc_curve, auc,precision_recall_curve\n",
    "    from matplotlib import pyplot as plt\n",
    "    from sklearn.model_selection import cross_validate\n",
    "    from sklearn.model_selection import train_test_split\n",
    "    \n",
    "    \n",
    "    tfidf_vect = TfidfVectorizer(**dtm_options)\n",
    "    dtm = tfidf_vect.fit_transform(artricles_modified) \n",
    "    X_train, X_test, Y_train, Y_test = train_test_split(\\\n",
    "                dtm, labels_modified, test_size=0.2, random_state=0)\n",
    "       \n",
    "    clf = svm.LinearSVC(**svm_options).fit(X_train, Y_train) \n",
    "    predicted = clf.predict(X_test)\n",
    "    labels=sorted(Y_test.unique())    \n",
    "    print(classification_report(Y_test, predicted, target_names=labels))\n",
    "    predict_p=clf.decision_function(X_test) \n",
    "    print(predict_p.shape)\n",
    "\n",
    "    binary_y = []\n",
    "    binary_y = np.where(Y_test=='true',1,0)\n",
    "    y_pred = predict_p\n",
    "    fpr, tpr, thresholds = roc_curve(binary_y, y_pred,pos_label=1)\n",
    "    precision, recall, thresholds = precision_recall_curve(binary_y,y_pred, pos_label=1)\n",
    "    roc_auc = auc(fpr,tpr)\n",
    "    prc_auc = auc(recall,precision)        \n",
    "    print('AUC:\\t{:.2%}\\tPRC:\\t{:.2%}'.format(roc_auc,prc_auc))\n",
    "        \n",
    "    plt.figure(); \n",
    "    #for i in range(len(labels)):\n",
    "    plt.plot(fpr, tpr, lw=2);\n",
    "    plt.plot([0, 1], [0, 1], color='navy', lw=2, linestyle='--');\n",
    "    plt.xlim([0.0, 1.0]);\n",
    "    plt.ylim([0.0, 1.05]);\n",
    "    plt.xlabel('False Positive Rate');\n",
    "    plt.ylabel('True Positive Rate');\n",
    "    plt.title('AUC');\n",
    "    \n",
    "    \n",
    "    \n",
    "    plt.figure(); \n",
    "    #for i in range(len(labels)):\n",
    "    plt.plot(recall, precision, lw=2);\n",
    "    plt.xlim([0.0, 1.0]);\n",
    "    plt.ylim([0.0, 1.05]);\n",
    "    plt.xlabel('Precision');\n",
    "    plt.ylabel('Recall');\n",
    "    plt.title('PRC');\n",
    "    \n",
    "    \n",
    "    plt.subplots_adjust(wspace = 0.3)\n",
    "    plt.show();\n",
    "    \n",
    "    return labels,dtm\n",
    "    "
   ]
  },
  {
   "cell_type": "code",
   "execution_count": 428,
   "id": "05225dc0",
   "metadata": {},
   "outputs": [
    {
     "name": "stdout",
     "output_type": "stream",
     "text": [
      "              precision    recall  f1-score   support\n",
      "\n",
      "       false       0.81      0.90      0.85       210\n",
      "        true       0.66      0.48      0.55        84\n",
      "\n",
      "    accuracy                           0.78       294\n",
      "   macro avg       0.73      0.69      0.70       294\n",
      "weighted avg       0.77      0.78      0.77       294\n",
      "\n",
      "(294,)\n",
      "AUC:\t83.37%\tPRC:\t64.63%\n"
     ]
    },
    {
     "data": {
      "image/png": "[encoded data removed]",
      "text/plain": [
       "<Figure size 432x288 with 1 Axes>"
      ]
     },
     "metadata": {
      "needs_background": "light"
     },
     "output_type": "display_data"
    },
    {
     "data": {
      "image/png": "[encoded data removed]",
      "text/plain": [
       "<Figure size 432x288 with 1 Axes>"
      ]
     },
     "metadata": {
      "needs_background": "light"
     },
     "output_type": "display_data"
    }
   ],
   "source": [
    "dtm_options={'stop_words':'english', 'min_df':1, 'use_idf':True, 'binary':True}\n",
    "svm_options = {'C':0.5}\n",
    "model, tfidf_vect = svm_model(artricles_modified, labels_modified,dtm_options = dtm_options,svm_options = svm_options)"
   ]
  },
  {
   "cell_type": "markdown",
   "id": "8d24a65c",
   "metadata": {},
   "source": [
    "### Training the model with supervised learning algorithm ,naive_bayes and doing performance evaluation by using the suitable parametrs"
   ]
  },
  {
   "cell_type": "code",
   "execution_count": 429,
   "id": "7bd3a527",
   "metadata": {},
   "outputs": [],
   "source": [
    "def Naive_Bayes(train_docs, train_y, dtm_options={'stop_words':None, 'min_df':1, 'use_idf':True, 'binary':'False'}):\n",
    "    import numpy as np\n",
    "    from sklearn.feature_extraction.text import TfidfVectorizer\n",
    "    from sklearn.naive_bayes import MultinomialNB\n",
    "    from sklearn.metrics import classification_report\n",
    "    from sklearn.metrics import roc_curve, auc,precision_recall_curve\n",
    "    from matplotlib import pyplot as plt\n",
    "    from sklearn.model_selection import cross_validate\n",
    "    from sklearn.model_selection import train_test_split\n",
    "    from sklearn.metrics import precision_recall_fscore_support\n",
    "    \n",
    "    \n",
    "    tfidf_vect = TfidfVectorizer(**dtm_options)\n",
    "    dtm = tfidf_vect.fit_transform(artricles_modified) \n",
    "    X_train, X_test, Y_train, Y_test = train_test_split(\\\n",
    "                dtm, labels_modified, test_size=0.2, random_state=0)\n",
    "    labels=sorted(train_y.unique())\n",
    "    #print(labels)\n",
    "    #print(Y_test[0:10])\n",
    "    clf = MultinomialNB().fit(X_train, Y_train)\n",
    "    predicted = clf.predict(X_test)\n",
    "    #print(predicted[0:10])\n",
    "\n",
    "    predict_p=clf.predict_proba(X_test) \n",
    "    #print(predict_p[0:10])   \n",
    "    \n",
    "    precision, recall, fscore, support=\\\n",
    "    precision_recall_fscore_support(\\\n",
    "    Y_test, predicted, labels=labels)\n",
    "    \n",
    "    print(classification_report\\\n",
    "      (Y_test, predicted, target_names=labels))\n",
    "    \n",
    "    binary_y = np.where(Y_test==\"true\",1,0)\n",
    "    y_pred = predict_p[:,1]\n",
    "    fpr, tpr, thresholds = roc_curve(binary_y, y_pred, \\\n",
    "                                 pos_label=1)\n",
    "    print(\"AUC: {:.2%}\".format(auc(fpr, tpr)))\n",
    "    \n",
    "    from matplotlib import pyplot as plt\n",
    "    plt.figure();\n",
    "    plt.plot(fpr, tpr, color='darkorange', lw=2);\n",
    "    plt.plot([0, 1], [0, 1], color='navy', lw=2, linestyle='--');\n",
    "    plt.xlim([0.0, 1.0]);\n",
    "    plt.ylim([0.0, 1.05]);\n",
    "    plt.xlabel('False Positive Rate');\n",
    "    plt.ylabel('True Positive Rate');\n",
    "    plt.title('AUC of Naive Bayes Model');\n",
    "    plt.show();\n",
    "    \n",
    "    precision, recall, thresholds = precision_recall_curve(binary_y, \\\n",
    "                                y_pred, pos_label=1)\n",
    "\n",
    "    plt.figure();\n",
    "    plt.plot(recall, precision, color='darkorange', lw=2);\n",
    "    plt.xlim([0.0, 1.0]);\n",
    "    plt.ylim([0.0, 1.05]);\n",
    "    plt.xlabel('Recall');\n",
    "    plt.ylabel('Precision');\n",
    "    plt.title('Precision_Recall_Curve of Naive Bayes Model');\n",
    "    plt.show();\n",
    "\n",
    "    # Calculate area under PRC curver (a.k.a average precision)\n",
    "    # calculate auc\n",
    "    print(\"Average Precision: {:.2%}\".format(auc(recall, precision)))\n",
    "    \n",
    "    return labels,dtm\n",
    "    "
   ]
  },
  {
   "cell_type": "code",
   "execution_count": 432,
   "id": "55c6925f",
   "metadata": {},
   "outputs": [
    {
     "name": "stdout",
     "output_type": "stream",
     "text": [
      "              precision    recall  f1-score   support\n",
      "\n",
      "       false       0.79      0.94      0.86       210\n",
      "        true       0.71      0.38      0.50        84\n",
      "\n",
      "    accuracy                           0.78       294\n",
      "   macro avg       0.75      0.66      0.68       294\n",
      "weighted avg       0.77      0.78      0.75       294\n",
      "\n",
      "AUC: 83.36%\n"
     ]
    },
    {
     "data": {
      "image/png": "[encoded data removed]",
      "text/plain": [
       "<Figure size 432x288 with 1 Axes>"
      ]
     },
     "metadata": {
      "needs_background": "light"
     },
     "output_type": "display_data"
    },
    {
     "data": {
      "image/png": "[encoded data removed]",
      "text/plain": [
       "<Figure size 432x288 with 1 Axes>"
      ]
     },
     "metadata": {
      "needs_background": "light"
     },
     "output_type": "display_data"
    },
    {
     "name": "stdout",
     "output_type": "stream",
     "text": [
      "Average Precision: 64.90%\n"
     ]
    }
   ],
   "source": [
    "dtm_options={'stop_words':'english', 'min_df' : 5 ,'use_idf':True, 'binary':'False'}\n",
    "model, tfidf_vect = Naive_Bayes(artricles_modified, labels_modified,dtm_options = dtm_options)"
   ]
  },
  {
   "cell_type": "code",
   "execution_count": null,
   "id": "f87718e2",
   "metadata": {},
   "outputs": [],
   "source": []
  }
 ],
 "metadata": {
  "kernelspec": {
   "display_name": "Python 3",
   "language": "python",
   "name": "python3"
  },
  "language_info": {
   "codemirror_mode": {
    "name": "ipython",
    "version": 3
   },
   "file_extension": ".py",
   "mimetype": "text/x-python",
   "name": "python",
   "nbconvert_exporter": "python",
   "pygments_lexer": "ipython3",
   "version": "3.8.8"
  }
 },
 "nbformat": 4,
 "nbformat_minor": 5
}
